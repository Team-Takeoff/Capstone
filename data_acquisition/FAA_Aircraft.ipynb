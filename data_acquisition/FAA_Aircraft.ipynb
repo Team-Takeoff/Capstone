{
  "cells": [
    {
      "cell_type": "markdown",
      "metadata": {
        "id": "view-in-github",
        "colab_type": "text"
      },
      "source": [
        "<a href=\"https://colab.research.google.com/github/Team-Takeoff/Capstone/blob/Dave/data_acquisition/FAA_Aircraft.ipynb\" target=\"_parent\"><img src=\"https://colab.research.google.com/assets/colab-badge.svg\" alt=\"Open In Colab\"/></a>"
      ]
    },
    {
      "cell_type": "markdown",
      "id": "6c2ef332-8a76-461c-925e-6f182fe351fa",
      "metadata": {
        "id": "6c2ef332-8a76-461c-925e-6f182fe351fa"
      },
      "source": [
        "## FAA Aircraft Code\n",
        "\n",
        "This pulls the tail numbers from our dataset and attempts to get information from the faa registry site. Using selenium, only so many tail numbers could be passed at a time."
      ]
    },
    {
      "cell_type": "code",
      "execution_count": null,
      "id": "51286538-fb6b-49dc-bdb6-e70eae8cd805",
      "metadata": {
        "id": "51286538-fb6b-49dc-bdb6-e70eae8cd805"
      },
      "outputs": [],
      "source": [
        "from selenium import webdriver\n",
        "from selenium.webdriver.support.ui import WebDriverWait\n",
        "from selenium.webdriver.support import expected_conditions as EC\n",
        "from bs4 import BeautifulSoup\n",
        "from selenium.webdriver.common.keys import Keys\n",
        "from selenium.webdriver.common.by import By\n",
        "import time\n",
        "import pandas as pd\n",
        "import numpy as np\n",
        "import json"
      ]
    },
    {
      "cell_type": "code",
      "execution_count": null,
      "id": "48f7afa6-035e-4690-885e-61622c6bca4f",
      "metadata": {
        "id": "48f7afa6-035e-4690-885e-61622c6bca4f"
      },
      "outputs": [],
      "source": [
        "path_to_files = ''\n",
        "files = json.load(path_to_files,'r')\n",
        "df = pd.read_csv(files['Aircraft']['All_Tails'])\n",
        "df.columns = ['TailNo']\n",
        "tail_numbers = list(df.TailNo.head())\n"
      ]
    },
    {
      "cell_type": "code",
      "execution_count": null,
      "id": "776e8619-387f-498a-a1b7-c14994133cdb",
      "metadata": {
        "id": "776e8619-387f-498a-a1b7-c14994133cdb"
      },
      "outputs": [],
      "source": [
        "def get_aircraft_data(n_number):\n",
        "    # Configure Selenium WebDriver (assuming Chrome driver is installed)\n",
        "    driver = webdriver.Safari()\n",
        "    driver.delete_all_cookies()\n",
        "\n",
        "\n",
        "    # Construct the URL for the Aircraft Inquiry - N-Number Search page\n",
        "    url = f\"https://registry.faa.gov/aircraftinquiry/Search/NNumberInquiry\"\n",
        "\n",
        "    # Navigate to the URL\n",
        "    driver.get(url)\n",
        "    wait = WebDriverWait(driver,3).until(EC.presence_of_element_located((By.NAME, 'NNumbertxt')))\n",
        "\n",
        "    # Find the table row containing the manufacturing year\n",
        "    field = driver.find_element(By.NAME, 'NNumbertxt')\n",
        "    field.send_keys(n_number)\n",
        "\n",
        "    form = driver.find_element(By.TAG_NAME, 'form')\n",
        "    form.submit()\n",
        "\n",
        "    wait = WebDriverWait(driver, 19)\n",
        "    wait.until(EC.presence_of_element_located((By.TAG_NAME, 'tbody')))\n",
        "    page_content = driver.page_source\n",
        "\n",
        "    soup = BeautifulSoup(page_content, 'html.parser')\n",
        "    driver.quit()\n",
        "    return soup\n",
        "\n",
        "\n",
        "aircraft_file = files['Aircraft']['FAA_Tails']\n",
        "with open(aircraft_file, 'a', buffering=-1) as file:\n",
        "    for n_number in tail_numbers:\n",
        "        # the web page validation checks: starting with N and 4th character is numeric\n",
        "        if n_number[0] == 'N' and n_number[3].isdigit() == True and n_number[1] != '0':\n",
        "            soup = get_aircraft_data(n_number)\n",
        "            yr = soup.find_all(attrs={'data-label': 'Mfr Year' })\n",
        "            if yr:\n",
        "                mfr_yr = yr[0].get_text().strip()\n",
        "            else:\n",
        "                yr = soup.find_all(attrs={'data-label' : 'Year Manufacturer'})\n",
        "                if yr:\n",
        "                    mfr_yr = yr[0].get_text().strip()\n",
        "                else:\n",
        "                    mfr_yr = ''\n",
        "            mfr = soup.find_all(attrs={'data-label': 'Manufacturer Name' })\n",
        "            if mfr:\n",
        "                mfr_text = mfr[0].get_text().strip()\n",
        "            else:\n",
        "                mfr_text = \"\"\n",
        "            model = soup.find_all(attrs={'data-label': 'Model' })\n",
        "            if model:\n",
        "                model_txt = model[0].get_text().strip()\n",
        "            else:\n",
        "                model_txt = \"\"\n",
        "\n",
        "            file.write(n_number + ',' + mfr_yr + ',' + mfr_text + ',' + model_txt + '\\n')\n",
        "            time.sleep(np.random.randint(12,30))\n",
        "        else:\n",
        "            file.write(n_number + ',,,\\n')\n"
      ]
    },
    {
      "cell_type": "code",
      "execution_count": null,
      "id": "a8297126-e344-4747-8b4a-66e8e0afc9c8",
      "metadata": {
        "id": "a8297126-e344-4747-8b4a-66e8e0afc9c8"
      },
      "outputs": [],
      "source": [
        "rd = pd.read_csv(files['Aircraft']['FAA_Tails'])"
      ]
    },
    {
      "cell_type": "code",
      "execution_count": null,
      "id": "97d0db07-e5b3-453e-bc6b-8d3e63b8bcdc",
      "metadata": {
        "id": "97d0db07-e5b3-453e-bc6b-8d3e63b8bcdc",
        "outputId": "bba408bf-992d-493b-941e-0d014bbcc164"
      },
      "outputs": [
        {
          "data": {
            "text/html": [
              "<div>\n",
              "<style scoped>\n",
              "    .dataframe tbody tr th:only-of-type {\n",
              "        vertical-align: middle;\n",
              "    }\n",
              "\n",
              "    .dataframe tbody tr th {\n",
              "        vertical-align: top;\n",
              "    }\n",
              "\n",
              "    .dataframe thead th {\n",
              "        text-align: right;\n",
              "    }\n",
              "</style>\n",
              "<table border=\"1\" class=\"dataframe\">\n",
              "  <thead>\n",
              "    <tr style=\"text-align: right;\">\n",
              "      <th></th>\n",
              "      <th>Tail_NO</th>\n",
              "      <th>Year_Built</th>\n",
              "      <th>Manufacturer</th>\n",
              "      <th>Model</th>\n",
              "    </tr>\n",
              "  </thead>\n",
              "  <tbody>\n",
              "    <tr>\n",
              "      <th>0</th>\n",
              "      <td>N301DQ</td>\n",
              "      <td>None</td>\n",
              "      <td>BOEING</td>\n",
              "      <td>737-732</td>\n",
              "    </tr>\n",
              "    <tr>\n",
              "      <th>1</th>\n",
              "      <td>N554NW</td>\n",
              "      <td>2001</td>\n",
              "      <td>BOEING</td>\n",
              "      <td>757-251</td>\n",
              "    </tr>\n",
              "    <tr>\n",
              "      <th>2</th>\n",
              "      <td>N760NC</td>\n",
              "      <td>1976</td>\n",
              "      <td>MCDONNELL DOUGLAS</td>\n",
              "      <td>DC-9-51</td>\n",
              "    </tr>\n",
              "    <tr>\n",
              "      <th>3</th>\n",
              "      <td>N956DL</td>\n",
              "      <td>1990</td>\n",
              "      <td>MCDONNELL DOUGLAS AIRCRAFT CO</td>\n",
              "      <td>MD-88</td>\n",
              "    </tr>\n",
              "    <tr>\n",
              "      <th>4</th>\n",
              "      <td>N394DA</td>\n",
              "      <td>2000</td>\n",
              "      <td>BOEING</td>\n",
              "      <td>737-832</td>\n",
              "    </tr>\n",
              "  </tbody>\n",
              "</table>\n",
              "</div>"
            ],
            "text/plain": [
              "  Tail_NO Year_Built                   Manufacturer    Model\n",
              "0  N301DQ       None                         BOEING  737-732\n",
              "1  N554NW       2001                         BOEING  757-251\n",
              "2  N760NC       1976              MCDONNELL DOUGLAS  DC-9-51\n",
              "3  N956DL       1990  MCDONNELL DOUGLAS AIRCRAFT CO    MD-88\n",
              "4  N394DA       2000                         BOEING  737-832"
            ]
          },
          "execution_count": 36,
          "metadata": {},
          "output_type": "execute_result"
        }
      ],
      "source": [
        "rd.head()"
      ]
    },
    {
      "cell_type": "code",
      "execution_count": null,
      "id": "680b85af-afe4-4240-a1e3-77309e0dfe96",
      "metadata": {
        "id": "680b85af-afe4-4240-a1e3-77309e0dfe96"
      },
      "outputs": [],
      "source": []
    },
    {
      "cell_type": "code",
      "execution_count": null,
      "id": "d1e769e8-ceec-4c36-a4fd-4dea198a4134",
      "metadata": {
        "id": "d1e769e8-ceec-4c36-a4fd-4dea198a4134"
      },
      "outputs": [],
      "source": []
    },
    {
      "cell_type": "code",
      "execution_count": null,
      "id": "9a1d9257-1ae5-48f2-9b07-8709f0b4f1a1",
      "metadata": {
        "id": "9a1d9257-1ae5-48f2-9b07-8709f0b4f1a1"
      },
      "outputs": [],
      "source": []
    },
    {
      "cell_type": "code",
      "execution_count": null,
      "id": "56795db1-49f2-4445-83cd-70f74ba22ce3",
      "metadata": {
        "id": "56795db1-49f2-4445-83cd-70f74ba22ce3"
      },
      "outputs": [],
      "source": []
    },
    {
      "cell_type": "code",
      "execution_count": null,
      "id": "4d185e1e-f2d6-449b-9bf3-1c0daeb0ad54",
      "metadata": {
        "id": "4d185e1e-f2d6-449b-9bf3-1c0daeb0ad54"
      },
      "outputs": [],
      "source": []
    }
  ],
  "metadata": {
    "kernelspec": {
      "display_name": "Python 3 (ipykernel)",
      "language": "python",
      "name": "python3"
    },
    "language_info": {
      "codemirror_mode": {
        "name": "ipython",
        "version": 3
      },
      "file_extension": ".py",
      "mimetype": "text/x-python",
      "name": "python",
      "nbconvert_exporter": "python",
      "pygments_lexer": "ipython3",
      "version": "3.10.9"
    },
    "colab": {
      "provenance": [],
      "include_colab_link": true
    }
  },
  "nbformat": 4,
  "nbformat_minor": 5
}